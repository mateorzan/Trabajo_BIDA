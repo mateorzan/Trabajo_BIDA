{
 "cells": [
  {
   "cell_type": "markdown",
   "id": "f6bbc345-4792-4bb0-b36a-8420ce27d8b5",
   "metadata": {},
   "source": [
    "# Query an existing Chroma DB\n",
    "Sample of how to querty a Chroma Vector Database oriented to creating a RAG system."
   ]
  },
  {
   "cell_type": "code",
   "execution_count": 1,
   "id": "d1b2e70e-469d-452e-a2ea-23750cd9eff0",
   "metadata": {},
   "outputs": [],
   "source": [
    "# https://python.langchain.com/docs/integrations/vectorstores/chroma/"
   ]
  },
  {
   "cell_type": "code",
   "execution_count": 2,
   "id": "e42ddcc0-6a38-420c-84e6-6221d5ba1d85",
   "metadata": {},
   "outputs": [],
   "source": [
    "#!pip install chromadb sentence-transformers langchain_huggingface langchain_chroma"
   ]
  },
  {
   "cell_type": "markdown",
   "id": "5ca19d8e-67ef-439f-a753-245dcd12ffb9",
   "metadata": {},
   "source": [
    "Select **model** for embeddings. \n",
    "\n",
    "We must to select the same model of existing embeddings in database"
   ]
  },
  {
   "cell_type": "code",
   "execution_count": 3,
   "id": "ecbe89d7-e3fc-417c-bb1e-f2b6cc63c61c",
   "metadata": {},
   "outputs": [
    {
     "name": "stderr",
     "output_type": "stream",
     "text": [
      "/home/bigdata/miniconda3/envs/Trabajo_BIDA/lib/python3.13/site-packages/tqdm/auto.py:21: TqdmWarning: IProgress not found. Please update jupyter and ipywidgets. See https://ipywidgets.readthedocs.io/en/stable/user_install.html\n",
      "  from .autonotebook import tqdm as notebook_tqdm\n"
     ]
    }
   ],
   "source": [
    "from langchain_huggingface import HuggingFaceEmbeddings\n",
    "\n",
    "embeddings = HuggingFaceEmbeddings(model_name=\"sentence-transformers/all-mpnet-base-v2\")"
   ]
  },
  {
   "cell_type": "markdown",
   "id": "938cd0b4-9fcb-4362-998a-cd3dbbebdc24",
   "metadata": {},
   "source": [
    "Access existing database"
   ]
  },
  {
   "cell_type": "code",
   "execution_count": 4,
   "id": "795b7ea7-a0d9-47ce-ac00-90691c034435",
   "metadata": {},
   "outputs": [],
   "source": [
    "from langchain_chroma import Chroma\n",
    "\n",
    "vector_store = Chroma(\n",
    "    collection_name=\"some_facts\",\n",
    "    embedding_function=embeddings,\n",
    "    persist_directory=\"./chroma_some_facts\",  # Where to save data locally, remove if not necessary\n",
    ")"
   ]
  },
  {
   "cell_type": "markdown",
   "id": "76834665-2c46-4ab4-80f6-381a02a7c960",
   "metadata": {},
   "source": [
    "## Searching\n",
    "We can use different type of searches with his own parameters"
   ]
  },
  {
   "cell_type": "code",
   "execution_count": 5,
   "id": "8381727a-a53b-461e-a6d1-35d154cff0a9",
   "metadata": {},
   "outputs": [
    {
     "name": "stdout",
     "output_type": "stream",
     "text": [
      "page_content='Building an exciting new project with LangChain - come check it out!'\n",
      "page_content='LangGraph is the best framework for building stateful, agentic applications!'\n",
      "page_content='Is the new iPhone worth the price? Read this review to find out.'\n"
     ]
    }
   ],
   "source": [
    "results = vector_store.similarity_search(\n",
    "    \"LangChain provides abstractions to make working with LLMs easy\",\n",
    "    k=3  #number of results\n",
    ")\n",
    "for res in results:\n",
    "    print(res)"
   ]
  },
  {
   "cell_type": "code",
   "execution_count": 9,
   "id": "7f138d6e-bcb3-40a7-93d0-5c6cc64eb507",
   "metadata": {},
   "outputs": [
    {
     "name": "stdout",
     "output_type": "stream",
     "text": [
      "* [SIM=0.809472] The weather forecast for tomorrow is cloudy and overcast, with a high of 62 degrees.\n",
      "* [SIM=1.515494] I have a bad feeling I am going to get deleted :(\n",
      "* [SIM=1.540267] I had chocolate chip pancakes and scrambled eggs for breakfast this morning.\n"
     ]
    }
   ],
   "source": [
    "results = vector_store.similarity_search_with_score(\n",
    "    \"Will it be hot tomorrow?\", k=3,\n",
    ")\n",
    "for res, score in results:\n",
    "    print(f\"* [SIM={score:3f}] {res.page_content}\")"
   ]
  },
  {
   "cell_type": "code",
   "execution_count": 7,
   "id": "cb39a87f-2ce1-49ca-af86-c11f019e82aa",
   "metadata": {},
   "outputs": [],
   "source": [
    "# we can configure a 'RETRIEVER', a key component in Langchain used to find relevant information from document collections"
   ]
  },
  {
   "cell_type": "code",
   "execution_count": 10,
   "id": "1ac2fa53-9f72-4541-b247-dcc86a77a49a",
   "metadata": {},
   "outputs": [
    {
     "data": {
      "text/plain": [
       "[Document(metadata={}, page_content='Robbers broke into the city bank and stole $1 million in cash.'),\n",
       " Document(metadata={}, page_content='The stock market is down 500 points today due to fears of a recession.'),\n",
       " Document(metadata={}, page_content='I had chocolate chip pancakes and scrambled eggs for breakfast this morning.')]"
      ]
     },
     "execution_count": 10,
     "metadata": {},
     "output_type": "execute_result"
    }
   ],
   "source": [
    "retriever = vector_store.as_retriever(\n",
    "    search_type=\"similarity\",  search_kwargs={\"k\": 3}\n",
    ")\n",
    "retriever.invoke(\"Stealing from the bank is a crime\")"
   ]
  },
  {
   "cell_type": "code",
   "execution_count": null,
   "id": "506615cf-9b9b-4c08-9fd8-f01efae4b382",
   "metadata": {},
   "outputs": [],
   "source": []
  }
 ],
 "metadata": {
  "kernelspec": {
   "display_name": "Trabajo_BIDA",
   "language": "python",
   "name": "python3"
  },
  "language_info": {
   "codemirror_mode": {
    "name": "ipython",
    "version": 3
   },
   "file_extension": ".py",
   "mimetype": "text/x-python",
   "name": "python",
   "nbconvert_exporter": "python",
   "pygments_lexer": "ipython3",
   "version": "3.13.1"
  }
 },
 "nbformat": 4,
 "nbformat_minor": 5
}
