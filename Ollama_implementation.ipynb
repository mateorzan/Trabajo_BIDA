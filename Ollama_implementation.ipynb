{
 "cells": [
  {
   "cell_type": "code",
   "execution_count": 2,
   "metadata": {},
   "outputs": [
    {
     "name": "stdout",
     "output_type": "stream",
     "text": [
      "Requirement already satisfied: langchain in /home/bigdata/miniconda3/envs/Trabajo_BIDA/lib/python3.13/site-packages (0.3.11)\n",
      "Requirement already satisfied: PyYAML>=5.3 in /home/bigdata/miniconda3/envs/Trabajo_BIDA/lib/python3.13/site-packages (from langchain) (6.0.2)\n",
      "Requirement already satisfied: SQLAlchemy<3,>=1.4 in /home/bigdata/miniconda3/envs/Trabajo_BIDA/lib/python3.13/site-packages (from langchain) (2.0.36)\n",
      "Requirement already satisfied: aiohttp<4.0.0,>=3.8.3 in /home/bigdata/miniconda3/envs/Trabajo_BIDA/lib/python3.13/site-packages (from langchain) (3.11.10)\n",
      "Requirement already satisfied: langchain-core<0.4.0,>=0.3.24 in /home/bigdata/miniconda3/envs/Trabajo_BIDA/lib/python3.13/site-packages (from langchain) (0.3.24)\n",
      "Requirement already satisfied: langchain-text-splitters<0.4.0,>=0.3.0 in /home/bigdata/miniconda3/envs/Trabajo_BIDA/lib/python3.13/site-packages (from langchain) (0.3.2)\n",
      "Requirement already satisfied: langsmith<0.3,>=0.1.17 in /home/bigdata/miniconda3/envs/Trabajo_BIDA/lib/python3.13/site-packages (from langchain) (0.2.3)\n",
      "Requirement already satisfied: numpy<3,>=1.26.2 in /home/bigdata/miniconda3/envs/Trabajo_BIDA/lib/python3.13/site-packages (from langchain) (2.2.0)\n",
      "Requirement already satisfied: pydantic<3.0.0,>=2.7.4 in /home/bigdata/miniconda3/envs/Trabajo_BIDA/lib/python3.13/site-packages (from langchain) (2.10.3)\n",
      "Requirement already satisfied: requests<3,>=2 in /home/bigdata/miniconda3/envs/Trabajo_BIDA/lib/python3.13/site-packages (from langchain) (2.32.3)\n",
      "Requirement already satisfied: tenacity!=8.4.0,<10,>=8.1.0 in /home/bigdata/miniconda3/envs/Trabajo_BIDA/lib/python3.13/site-packages (from langchain) (9.0.0)\n",
      "Requirement already satisfied: aiohappyeyeballs>=2.3.0 in /home/bigdata/miniconda3/envs/Trabajo_BIDA/lib/python3.13/site-packages (from aiohttp<4.0.0,>=3.8.3->langchain) (2.4.4)\n",
      "Requirement already satisfied: aiosignal>=1.1.2 in /home/bigdata/miniconda3/envs/Trabajo_BIDA/lib/python3.13/site-packages (from aiohttp<4.0.0,>=3.8.3->langchain) (1.3.1)\n",
      "Requirement already satisfied: attrs>=17.3.0 in /home/bigdata/miniconda3/envs/Trabajo_BIDA/lib/python3.13/site-packages (from aiohttp<4.0.0,>=3.8.3->langchain) (24.2.0)\n",
      "Requirement already satisfied: frozenlist>=1.1.1 in /home/bigdata/miniconda3/envs/Trabajo_BIDA/lib/python3.13/site-packages (from aiohttp<4.0.0,>=3.8.3->langchain) (1.5.0)\n",
      "Requirement already satisfied: multidict<7.0,>=4.5 in /home/bigdata/miniconda3/envs/Trabajo_BIDA/lib/python3.13/site-packages (from aiohttp<4.0.0,>=3.8.3->langchain) (6.1.0)\n",
      "Requirement already satisfied: propcache>=0.2.0 in /home/bigdata/miniconda3/envs/Trabajo_BIDA/lib/python3.13/site-packages (from aiohttp<4.0.0,>=3.8.3->langchain) (0.2.1)\n",
      "Requirement already satisfied: yarl<2.0,>=1.17.0 in /home/bigdata/miniconda3/envs/Trabajo_BIDA/lib/python3.13/site-packages (from aiohttp<4.0.0,>=3.8.3->langchain) (1.18.3)\n",
      "Requirement already satisfied: jsonpatch<2.0,>=1.33 in /home/bigdata/miniconda3/envs/Trabajo_BIDA/lib/python3.13/site-packages (from langchain-core<0.4.0,>=0.3.24->langchain) (1.33)\n",
      "Requirement already satisfied: packaging<25,>=23.2 in /home/bigdata/miniconda3/envs/Trabajo_BIDA/lib/python3.13/site-packages (from langchain-core<0.4.0,>=0.3.24->langchain) (24.2)\n",
      "Requirement already satisfied: typing-extensions>=4.7 in /home/bigdata/miniconda3/envs/Trabajo_BIDA/lib/python3.13/site-packages (from langchain-core<0.4.0,>=0.3.24->langchain) (4.12.2)\n",
      "Requirement already satisfied: httpx<1,>=0.23.0 in /home/bigdata/miniconda3/envs/Trabajo_BIDA/lib/python3.13/site-packages (from langsmith<0.3,>=0.1.17->langchain) (0.27.2)\n",
      "Requirement already satisfied: orjson<4.0.0,>=3.9.14 in /home/bigdata/miniconda3/envs/Trabajo_BIDA/lib/python3.13/site-packages (from langsmith<0.3,>=0.1.17->langchain) (3.10.12)\n",
      "Requirement already satisfied: requests-toolbelt<2.0.0,>=1.0.0 in /home/bigdata/miniconda3/envs/Trabajo_BIDA/lib/python3.13/site-packages (from langsmith<0.3,>=0.1.17->langchain) (1.0.0)\n",
      "Requirement already satisfied: annotated-types>=0.6.0 in /home/bigdata/miniconda3/envs/Trabajo_BIDA/lib/python3.13/site-packages (from pydantic<3.0.0,>=2.7.4->langchain) (0.7.0)\n",
      "Requirement already satisfied: pydantic-core==2.27.1 in /home/bigdata/miniconda3/envs/Trabajo_BIDA/lib/python3.13/site-packages (from pydantic<3.0.0,>=2.7.4->langchain) (2.27.1)\n",
      "Requirement already satisfied: charset-normalizer<4,>=2 in /home/bigdata/miniconda3/envs/Trabajo_BIDA/lib/python3.13/site-packages (from requests<3,>=2->langchain) (3.4.0)\n",
      "Requirement already satisfied: idna<4,>=2.5 in /home/bigdata/miniconda3/envs/Trabajo_BIDA/lib/python3.13/site-packages (from requests<3,>=2->langchain) (3.10)\n",
      "Requirement already satisfied: urllib3<3,>=1.21.1 in /home/bigdata/miniconda3/envs/Trabajo_BIDA/lib/python3.13/site-packages (from requests<3,>=2->langchain) (2.2.3)\n",
      "Requirement already satisfied: certifi>=2017.4.17 in /home/bigdata/miniconda3/envs/Trabajo_BIDA/lib/python3.13/site-packages (from requests<3,>=2->langchain) (2024.8.30)\n",
      "Requirement already satisfied: anyio in /home/bigdata/miniconda3/envs/Trabajo_BIDA/lib/python3.13/site-packages (from httpx<1,>=0.23.0->langsmith<0.3,>=0.1.17->langchain) (4.7.0)\n",
      "Requirement already satisfied: httpcore==1.* in /home/bigdata/miniconda3/envs/Trabajo_BIDA/lib/python3.13/site-packages (from httpx<1,>=0.23.0->langsmith<0.3,>=0.1.17->langchain) (1.0.7)\n",
      "Requirement already satisfied: sniffio in /home/bigdata/miniconda3/envs/Trabajo_BIDA/lib/python3.13/site-packages (from httpx<1,>=0.23.0->langsmith<0.3,>=0.1.17->langchain) (1.3.1)\n",
      "Requirement already satisfied: h11<0.15,>=0.13 in /home/bigdata/miniconda3/envs/Trabajo_BIDA/lib/python3.13/site-packages (from httpcore==1.*->httpx<1,>=0.23.0->langsmith<0.3,>=0.1.17->langchain) (0.14.0)\n",
      "Requirement already satisfied: jsonpointer>=1.9 in /home/bigdata/miniconda3/envs/Trabajo_BIDA/lib/python3.13/site-packages (from jsonpatch<2.0,>=1.33->langchain-core<0.4.0,>=0.3.24->langchain) (3.0.0)\n",
      "Requirement already satisfied: langchain_ollama in /home/bigdata/miniconda3/envs/Trabajo_BIDA/lib/python3.13/site-packages (0.2.1)\n",
      "Requirement already satisfied: langchain-core<0.4.0,>=0.3.20 in /home/bigdata/miniconda3/envs/Trabajo_BIDA/lib/python3.13/site-packages (from langchain_ollama) (0.3.24)\n",
      "Requirement already satisfied: ollama<1,>=0.3.0 in /home/bigdata/miniconda3/envs/Trabajo_BIDA/lib/python3.13/site-packages (from langchain_ollama) (0.4.4)\n",
      "Requirement already satisfied: PyYAML>=5.3 in /home/bigdata/miniconda3/envs/Trabajo_BIDA/lib/python3.13/site-packages (from langchain-core<0.4.0,>=0.3.20->langchain_ollama) (6.0.2)\n",
      "Requirement already satisfied: jsonpatch<2.0,>=1.33 in /home/bigdata/miniconda3/envs/Trabajo_BIDA/lib/python3.13/site-packages (from langchain-core<0.4.0,>=0.3.20->langchain_ollama) (1.33)\n",
      "Requirement already satisfied: langsmith<0.3,>=0.1.125 in /home/bigdata/miniconda3/envs/Trabajo_BIDA/lib/python3.13/site-packages (from langchain-core<0.4.0,>=0.3.20->langchain_ollama) (0.2.3)\n",
      "Requirement already satisfied: packaging<25,>=23.2 in /home/bigdata/miniconda3/envs/Trabajo_BIDA/lib/python3.13/site-packages (from langchain-core<0.4.0,>=0.3.20->langchain_ollama) (24.2)\n",
      "Requirement already satisfied: pydantic<3.0.0,>=2.7.4 in /home/bigdata/miniconda3/envs/Trabajo_BIDA/lib/python3.13/site-packages (from langchain-core<0.4.0,>=0.3.20->langchain_ollama) (2.10.3)\n",
      "Requirement already satisfied: tenacity!=8.4.0,<10.0.0,>=8.1.0 in /home/bigdata/miniconda3/envs/Trabajo_BIDA/lib/python3.13/site-packages (from langchain-core<0.4.0,>=0.3.20->langchain_ollama) (9.0.0)\n",
      "Requirement already satisfied: typing-extensions>=4.7 in /home/bigdata/miniconda3/envs/Trabajo_BIDA/lib/python3.13/site-packages (from langchain-core<0.4.0,>=0.3.20->langchain_ollama) (4.12.2)\n",
      "Requirement already satisfied: httpx<0.28.0,>=0.27.0 in /home/bigdata/miniconda3/envs/Trabajo_BIDA/lib/python3.13/site-packages (from ollama<1,>=0.3.0->langchain_ollama) (0.27.2)\n",
      "Requirement already satisfied: anyio in /home/bigdata/miniconda3/envs/Trabajo_BIDA/lib/python3.13/site-packages (from httpx<0.28.0,>=0.27.0->ollama<1,>=0.3.0->langchain_ollama) (4.7.0)\n",
      "Requirement already satisfied: certifi in /home/bigdata/miniconda3/envs/Trabajo_BIDA/lib/python3.13/site-packages (from httpx<0.28.0,>=0.27.0->ollama<1,>=0.3.0->langchain_ollama) (2024.8.30)\n",
      "Requirement already satisfied: httpcore==1.* in /home/bigdata/miniconda3/envs/Trabajo_BIDA/lib/python3.13/site-packages (from httpx<0.28.0,>=0.27.0->ollama<1,>=0.3.0->langchain_ollama) (1.0.7)\n",
      "Requirement already satisfied: idna in /home/bigdata/miniconda3/envs/Trabajo_BIDA/lib/python3.13/site-packages (from httpx<0.28.0,>=0.27.0->ollama<1,>=0.3.0->langchain_ollama) (3.10)\n",
      "Requirement already satisfied: sniffio in /home/bigdata/miniconda3/envs/Trabajo_BIDA/lib/python3.13/site-packages (from httpx<0.28.0,>=0.27.0->ollama<1,>=0.3.0->langchain_ollama) (1.3.1)\n",
      "Requirement already satisfied: h11<0.15,>=0.13 in /home/bigdata/miniconda3/envs/Trabajo_BIDA/lib/python3.13/site-packages (from httpcore==1.*->httpx<0.28.0,>=0.27.0->ollama<1,>=0.3.0->langchain_ollama) (0.14.0)\n",
      "Requirement already satisfied: jsonpointer>=1.9 in /home/bigdata/miniconda3/envs/Trabajo_BIDA/lib/python3.13/site-packages (from jsonpatch<2.0,>=1.33->langchain-core<0.4.0,>=0.3.20->langchain_ollama) (3.0.0)\n",
      "Requirement already satisfied: orjson<4.0.0,>=3.9.14 in /home/bigdata/miniconda3/envs/Trabajo_BIDA/lib/python3.13/site-packages (from langsmith<0.3,>=0.1.125->langchain-core<0.4.0,>=0.3.20->langchain_ollama) (3.10.12)\n",
      "Requirement already satisfied: requests<3,>=2 in /home/bigdata/miniconda3/envs/Trabajo_BIDA/lib/python3.13/site-packages (from langsmith<0.3,>=0.1.125->langchain-core<0.4.0,>=0.3.20->langchain_ollama) (2.32.3)\n",
      "Requirement already satisfied: requests-toolbelt<2.0.0,>=1.0.0 in /home/bigdata/miniconda3/envs/Trabajo_BIDA/lib/python3.13/site-packages (from langsmith<0.3,>=0.1.125->langchain-core<0.4.0,>=0.3.20->langchain_ollama) (1.0.0)\n",
      "Requirement already satisfied: annotated-types>=0.6.0 in /home/bigdata/miniconda3/envs/Trabajo_BIDA/lib/python3.13/site-packages (from pydantic<3.0.0,>=2.7.4->langchain-core<0.4.0,>=0.3.20->langchain_ollama) (0.7.0)\n",
      "Requirement already satisfied: pydantic-core==2.27.1 in /home/bigdata/miniconda3/envs/Trabajo_BIDA/lib/python3.13/site-packages (from pydantic<3.0.0,>=2.7.4->langchain-core<0.4.0,>=0.3.20->langchain_ollama) (2.27.1)\n",
      "Requirement already satisfied: charset-normalizer<4,>=2 in /home/bigdata/miniconda3/envs/Trabajo_BIDA/lib/python3.13/site-packages (from requests<3,>=2->langsmith<0.3,>=0.1.125->langchain-core<0.4.0,>=0.3.20->langchain_ollama) (3.4.0)\n",
      "Requirement already satisfied: urllib3<3,>=1.21.1 in /home/bigdata/miniconda3/envs/Trabajo_BIDA/lib/python3.13/site-packages (from requests<3,>=2->langsmith<0.3,>=0.1.125->langchain-core<0.4.0,>=0.3.20->langchain_ollama) (2.2.3)\n"
     ]
    }
   ],
   "source": [
    "!pip install langchain\n",
    "!pip install langchain_ollama"
   ]
  },
  {
   "cell_type": "code",
   "execution_count": 3,
   "metadata": {},
   "outputs": [],
   "source": [
    "from langchain_core.prompts import ChatPromptTemplate\n",
    "from langchain_ollama.llms import OllamaLLM"
   ]
  },
  {
   "cell_type": "code",
   "execution_count": 4,
   "metadata": {},
   "outputs": [],
   "source": [
    "# Define a template to build a prompt\n",
    "template = \"\"\"Question: {question}\n",
    "\n",
    "Answer: Be concise\"\"\""
   ]
  },
  {
   "cell_type": "code",
   "execution_count": 5,
   "metadata": {},
   "outputs": [],
   "source": [
    "# Define a chat prompt from previous template\n",
    "prompt = ChatPromptTemplate.from_template(template)"
   ]
  },
  {
   "cell_type": "code",
   "execution_count": 6,
   "metadata": {},
   "outputs": [],
   "source": [
    "# Select a model to talk with\n",
    "model = OllamaLLM(model=\"llama3.2\")\n",
    "#model = OllamaLLM(model=\"llama3.2\",base_url='http://localhost:11434')\n",
    "#model = OllamaLLM(model=\"llama3.2\",base_url='http://remote:3000/api/chat/completions',api_key='sk-xyzq') ¿¿¿???"
   ]
  },
  {
   "cell_type": "code",
   "execution_count": 7,
   "metadata": {},
   "outputs": [],
   "source": [
    "# Define the chain\n",
    "chain = prompt | model"
   ]
  },
  {
   "cell_type": "code",
   "execution_count": 8,
   "metadata": {},
   "outputs": [
    {
     "data": {
      "text/plain": [
       "'Beat 2 eggs, add salt & pepper. Heat pan, add butter. Pour in eggs, cook until edges start to set. Flip, add fillings (e.g., cheese, veggies). Fold and serve.'"
      ]
     },
     "execution_count": 8,
     "metadata": {},
     "output_type": "execute_result"
    }
   ],
   "source": [
    "# Invoke a chain passing a {question}\n",
    "chain.invoke({\"question\": \"how to make a omelet?\"})"
   ]
  }
 ],
 "metadata": {
  "kernelspec": {
   "display_name": "Trabajo_BIDA",
   "language": "python",
   "name": "python3"
  },
  "language_info": {
   "codemirror_mode": {
    "name": "ipython",
    "version": 3
   },
   "file_extension": ".py",
   "mimetype": "text/x-python",
   "name": "python",
   "nbconvert_exporter": "python",
   "pygments_lexer": "ipython3",
   "version": "3.13.1"
  }
 },
 "nbformat": 4,
 "nbformat_minor": 2
}
