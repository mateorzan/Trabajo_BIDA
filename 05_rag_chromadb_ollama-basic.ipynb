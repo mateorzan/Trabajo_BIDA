{
 "cells": [
  {
   "cell_type": "markdown",
   "id": "2f93b426-4009-4931-85c6-9808d5697075",
   "metadata": {},
   "source": [
    "# Basic RAG over an existing vector database"
   ]
  },
  {
   "cell_type": "code",
   "execution_count": 1,
   "id": "8fc370aa-66e9-4d54-88b4-3bdab46e56d8",
   "metadata": {},
   "outputs": [],
   "source": [
    "#!pip install langchain langchain_ollama\n",
    "#!pip install chromadb sentence-transformers langchain_huggingface langchain_chroma"
   ]
  },
  {
   "cell_type": "markdown",
   "id": "d9bcf30b-1da4-433e-9b9e-daade8e0667d",
   "metadata": {},
   "source": [
    "Select **model** for embeddings. "
   ]
  },
  {
   "cell_type": "code",
   "execution_count": 2,
   "id": "531a04af-d0be-45d2-a579-bcc92666061d",
   "metadata": {},
   "outputs": [
    {
     "name": "stderr",
     "output_type": "stream",
     "text": [
      "/home/bigdata/miniconda3/envs/Trabajo_BIDA/lib/python3.13/site-packages/tqdm/auto.py:21: TqdmWarning: IProgress not found. Please update jupyter and ipywidgets. See https://ipywidgets.readthedocs.io/en/stable/user_install.html\n",
      "  from .autonotebook import tqdm as notebook_tqdm\n"
     ]
    }
   ],
   "source": [
    "from langchain_huggingface import HuggingFaceEmbeddings\n",
    "\n",
    "embeddings = HuggingFaceEmbeddings(model_name=\"sentence-transformers/all-mpnet-base-v2\")"
   ]
  },
  {
   "cell_type": "markdown",
   "id": "9a828705-88a3-413b-99ab-77fea67d467c",
   "metadata": {},
   "source": [
    "Access existing database"
   ]
  },
  {
   "cell_type": "code",
   "execution_count": 3,
   "id": "a18b4756-c654-4b7f-8927-ccbd03f5b8b4",
   "metadata": {},
   "outputs": [],
   "source": [
    "from langchain_chroma import Chroma\n",
    "\n",
    "vector_store = Chroma(\n",
    "    collection_name=\"some_facts\",\n",
    "    embedding_function=embeddings,\n",
    "    persist_directory=\"./chroma_some_facts\",  # Where to save data locally, remove if not necessary\n",
    ")"
   ]
  },
  {
   "cell_type": "markdown",
   "id": "899d7ca6-d5bf-46ad-8122-570599850654",
   "metadata": {},
   "source": [
    "Create retriever"
   ]
  },
  {
   "cell_type": "code",
   "execution_count": 4,
   "id": "e42e6efc-e0d9-4734-973b-3b008fb61942",
   "metadata": {},
   "outputs": [],
   "source": [
    "retriever = vector_store.as_retriever()"
   ]
  },
  {
   "cell_type": "markdown",
   "id": "4f88aaca-6780-4d9a-addc-7372f9565f84",
   "metadata": {},
   "source": [
    "Make a search in the vectorstor (only for testing purposes)"
   ]
  },
  {
   "cell_type": "code",
   "execution_count": 5,
   "id": "e4fc04be-02a2-4a16-8cf7-91353f12ac36",
   "metadata": {},
   "outputs": [
    {
     "data": {
      "text/plain": [
       "4"
      ]
     },
     "execution_count": 5,
     "metadata": {},
     "output_type": "execute_result"
    }
   ],
   "source": [
    "question = \"Can I steal a bank?\"\n",
    "docs = vector_store.similarity_search(question)\n",
    "len(docs)"
   ]
  },
  {
   "cell_type": "code",
   "execution_count": 6,
   "id": "58a8e36b-e1f9-4a9a-aed3-c384616b2703",
   "metadata": {},
   "outputs": [
    {
     "data": {
      "text/plain": [
       "Document(metadata={}, page_content='Robbers broke into the city bank and stole $1 million in cash.')"
      ]
     },
     "execution_count": 6,
     "metadata": {},
     "output_type": "execute_result"
    }
   ],
   "source": [
    "docs[0]"
   ]
  },
  {
   "cell_type": "markdown",
   "id": "ac834b24-4d59-470d-a742-d049aec339a1",
   "metadata": {},
   "source": [
    "RAG Chain"
   ]
  },
  {
   "cell_type": "code",
   "execution_count": 7,
   "id": "005b8377-fbb1-4908-b36a-bba15711cd36",
   "metadata": {},
   "outputs": [],
   "source": [
    "from langchain_core.output_parsers import StrOutputParser\n",
    "from langchain.prompts import ChatPromptTemplate\n",
    "from langchain_ollama.chat_models import ChatOllama\n",
    "from langchain_core.runnables import RunnableLambda, RunnablePassthrough\n",
    "\n",
    "# Prompt\n",
    "template = \"\"\"Answer the question based only on the following context:\n",
    "{context}\n",
    "\n",
    "Question: {question}\n",
    "\"\"\"\n",
    "prompt = ChatPromptTemplate.from_template(template)\n",
    "\n",
    "# Local LLM\n",
    "ollama_llm = \"llama3.2\"\n",
    "model_local = ChatOllama(model=ollama_llm)\n",
    "\n",
    "# Chain\n",
    "chain = (\n",
    "    {\"context\": retriever, \"question\": RunnablePassthrough()}\n",
    "    | prompt\n",
    "    | model_local\n",
    "    | StrOutputParser()\n",
    ")"
   ]
  },
  {
   "cell_type": "code",
   "execution_count": 8,
   "id": "cfb07a83-3573-4d44-92a0-a444164490cd",
   "metadata": {},
   "outputs": [
    {
     "data": {
      "text/plain": [
       "'No, you cannot steal a bank. The context provided is about robbers breaking into a city bank and stealing money, not about physically stealing or taking over a bank as an entity.'"
      ]
     },
     "execution_count": 8,
     "metadata": {},
     "output_type": "execute_result"
    }
   ],
   "source": [
    "# Question\n",
    "chain.invoke(\"Can I steal a bank?\")"
   ]
  },
  {
   "cell_type": "code",
   "execution_count": null,
   "id": "83ac4276-b76d-4419-82d0-27acba60a0d2",
   "metadata": {},
   "outputs": [],
   "source": []
  }
 ],
 "metadata": {
  "kernelspec": {
   "display_name": "Trabajo_BIDA",
   "language": "python",
   "name": "python3"
  },
  "language_info": {
   "codemirror_mode": {
    "name": "ipython",
    "version": 3
   },
   "file_extension": ".py",
   "mimetype": "text/x-python",
   "name": "python",
   "nbconvert_exporter": "python",
   "pygments_lexer": "ipython3",
   "version": "3.13.1"
  }
 },
 "nbformat": 4,
 "nbformat_minor": 5
}
