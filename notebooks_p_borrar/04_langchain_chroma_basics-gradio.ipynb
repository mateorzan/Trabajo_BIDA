{
 "cells": [
  {
   "cell_type": "markdown",
   "id": "f6bbc345-4792-4bb0-b36a-8420ce27d8b5",
   "metadata": {},
   "source": [
    "# Query an existing Chroma DB with GUI (Gradio)\n",
    "Sample of how to querty a Chroma Vector Database oriented to creating a RAG system."
   ]
  },
  {
   "cell_type": "code",
   "execution_count": 14,
   "id": "d1b2e70e-469d-452e-a2ea-23750cd9eff0",
   "metadata": {},
   "outputs": [],
   "source": [
    "# https://python.langchain.com/docs/integrations/vectorstores/chroma/"
   ]
  },
  {
   "cell_type": "code",
   "execution_count": 15,
   "id": "e42ddcc0-6a38-420c-84e6-6221d5ba1d85",
   "metadata": {},
   "outputs": [],
   "source": [
    "#!pip install chromadb sentence-transformers langchain_huggingface langchain_chroma"
   ]
  },
  {
   "cell_type": "code",
   "execution_count": 16,
   "id": "55c95ca2-ea09-4bfa-894c-bdf1178ba20d",
   "metadata": {},
   "outputs": [
    {
     "name": "stderr",
     "output_type": "stream",
     "text": [
      "huggingface/tokenizers: The current process just got forked, after parallelism has already been used. Disabling parallelism to avoid deadlocks...\n",
      "To disable this warning, you can either:\n",
      "\t- Avoid using `tokenizers` before the fork if possible\n",
      "\t- Explicitly set the environment variable TOKENIZERS_PARALLELISM=(true | false)\n"
     ]
    },
    {
     "name": "stdout",
     "output_type": "stream",
     "text": [
      "Requirement already satisfied: gradio in /home/bigdata/miniconda3/envs/Trabajo_BIDA/lib/python3.13/site-packages (5.9.0)\n",
      "Requirement already satisfied: aiofiles<24.0,>=22.0 in /home/bigdata/miniconda3/envs/Trabajo_BIDA/lib/python3.13/site-packages (from gradio) (23.2.1)\n",
      "Requirement already satisfied: anyio<5.0,>=3.0 in /home/bigdata/miniconda3/envs/Trabajo_BIDA/lib/python3.13/site-packages (from gradio) (4.7.0)\n",
      "Requirement already satisfied: audioop-lts<1.0 in /home/bigdata/miniconda3/envs/Trabajo_BIDA/lib/python3.13/site-packages (from gradio) (0.2.1)\n",
      "Requirement already satisfied: fastapi<1.0,>=0.115.2 in /home/bigdata/miniconda3/envs/Trabajo_BIDA/lib/python3.13/site-packages (from gradio) (0.115.6)\n",
      "Requirement already satisfied: ffmpy in /home/bigdata/miniconda3/envs/Trabajo_BIDA/lib/python3.13/site-packages (from gradio) (0.4.0)\n",
      "Requirement already satisfied: gradio-client==1.5.2 in /home/bigdata/miniconda3/envs/Trabajo_BIDA/lib/python3.13/site-packages (from gradio) (1.5.2)\n",
      "Requirement already satisfied: httpx>=0.24.1 in /home/bigdata/miniconda3/envs/Trabajo_BIDA/lib/python3.13/site-packages (from gradio) (0.27.2)\n",
      "Requirement already satisfied: huggingface-hub>=0.25.1 in /home/bigdata/miniconda3/envs/Trabajo_BIDA/lib/python3.13/site-packages (from gradio) (0.26.5)\n",
      "Requirement already satisfied: jinja2<4.0 in /home/bigdata/miniconda3/envs/Trabajo_BIDA/lib/python3.13/site-packages (from gradio) (3.1.4)\n",
      "Requirement already satisfied: markupsafe~=2.0 in /home/bigdata/miniconda3/envs/Trabajo_BIDA/lib/python3.13/site-packages (from gradio) (2.1.5)\n",
      "Requirement already satisfied: numpy<3.0,>=1.0 in /home/bigdata/miniconda3/envs/Trabajo_BIDA/lib/python3.13/site-packages (from gradio) (1.26.4)\n",
      "Requirement already satisfied: orjson~=3.0 in /home/bigdata/miniconda3/envs/Trabajo_BIDA/lib/python3.13/site-packages (from gradio) (3.10.12)\n",
      "Requirement already satisfied: packaging in /home/bigdata/miniconda3/envs/Trabajo_BIDA/lib/python3.13/site-packages (from gradio) (24.2)\n",
      "Requirement already satisfied: pandas<3.0,>=1.0 in /home/bigdata/miniconda3/envs/Trabajo_BIDA/lib/python3.13/site-packages (from gradio) (2.2.3)\n",
      "Requirement already satisfied: pillow<12.0,>=8.0 in /home/bigdata/miniconda3/envs/Trabajo_BIDA/lib/python3.13/site-packages (from gradio) (11.0.0)\n",
      "Requirement already satisfied: pydantic>=2.0 in /home/bigdata/miniconda3/envs/Trabajo_BIDA/lib/python3.13/site-packages (from gradio) (2.10.3)\n",
      "Requirement already satisfied: pydub in /home/bigdata/miniconda3/envs/Trabajo_BIDA/lib/python3.13/site-packages (from gradio) (0.25.1)\n",
      "Requirement already satisfied: python-multipart>=0.0.18 in /home/bigdata/miniconda3/envs/Trabajo_BIDA/lib/python3.13/site-packages (from gradio) (0.0.19)\n",
      "Requirement already satisfied: pyyaml<7.0,>=5.0 in /home/bigdata/miniconda3/envs/Trabajo_BIDA/lib/python3.13/site-packages (from gradio) (6.0.2)\n",
      "Requirement already satisfied: ruff>=0.2.2 in /home/bigdata/miniconda3/envs/Trabajo_BIDA/lib/python3.13/site-packages (from gradio) (0.8.3)\n",
      "Requirement already satisfied: safehttpx<0.2.0,>=0.1.6 in /home/bigdata/miniconda3/envs/Trabajo_BIDA/lib/python3.13/site-packages (from gradio) (0.1.6)\n",
      "Requirement already satisfied: semantic-version~=2.0 in /home/bigdata/miniconda3/envs/Trabajo_BIDA/lib/python3.13/site-packages (from gradio) (2.10.0)\n",
      "Requirement already satisfied: starlette<1.0,>=0.40.0 in /home/bigdata/miniconda3/envs/Trabajo_BIDA/lib/python3.13/site-packages (from gradio) (0.41.3)\n",
      "Requirement already satisfied: tomlkit<0.14.0,>=0.12.0 in /home/bigdata/miniconda3/envs/Trabajo_BIDA/lib/python3.13/site-packages (from gradio) (0.13.2)\n",
      "Requirement already satisfied: typer<1.0,>=0.12 in /home/bigdata/miniconda3/envs/Trabajo_BIDA/lib/python3.13/site-packages (from gradio) (0.15.1)\n",
      "Requirement already satisfied: typing-extensions~=4.0 in /home/bigdata/miniconda3/envs/Trabajo_BIDA/lib/python3.13/site-packages (from gradio) (4.12.2)\n",
      "Requirement already satisfied: uvicorn>=0.14.0 in /home/bigdata/miniconda3/envs/Trabajo_BIDA/lib/python3.13/site-packages (from gradio) (0.33.0)\n",
      "Requirement already satisfied: fsspec in /home/bigdata/miniconda3/envs/Trabajo_BIDA/lib/python3.13/site-packages (from gradio-client==1.5.2->gradio) (2024.10.0)\n",
      "Requirement already satisfied: websockets<15.0,>=10.0 in /home/bigdata/miniconda3/envs/Trabajo_BIDA/lib/python3.13/site-packages (from gradio-client==1.5.2->gradio) (14.1)\n",
      "Requirement already satisfied: idna>=2.8 in /home/bigdata/miniconda3/envs/Trabajo_BIDA/lib/python3.13/site-packages (from anyio<5.0,>=3.0->gradio) (3.10)\n",
      "Requirement already satisfied: sniffio>=1.1 in /home/bigdata/miniconda3/envs/Trabajo_BIDA/lib/python3.13/site-packages (from anyio<5.0,>=3.0->gradio) (1.3.1)\n",
      "Requirement already satisfied: certifi in /home/bigdata/miniconda3/envs/Trabajo_BIDA/lib/python3.13/site-packages (from httpx>=0.24.1->gradio) (2024.8.30)\n",
      "Requirement already satisfied: httpcore==1.* in /home/bigdata/miniconda3/envs/Trabajo_BIDA/lib/python3.13/site-packages (from httpx>=0.24.1->gradio) (1.0.7)\n",
      "Requirement already satisfied: h11<0.15,>=0.13 in /home/bigdata/miniconda3/envs/Trabajo_BIDA/lib/python3.13/site-packages (from httpcore==1.*->httpx>=0.24.1->gradio) (0.14.0)\n",
      "Requirement already satisfied: filelock in /home/bigdata/miniconda3/envs/Trabajo_BIDA/lib/python3.13/site-packages (from huggingface-hub>=0.25.1->gradio) (3.16.1)\n",
      "Requirement already satisfied: requests in /home/bigdata/miniconda3/envs/Trabajo_BIDA/lib/python3.13/site-packages (from huggingface-hub>=0.25.1->gradio) (2.32.3)\n",
      "Requirement already satisfied: tqdm>=4.42.1 in /home/bigdata/miniconda3/envs/Trabajo_BIDA/lib/python3.13/site-packages (from huggingface-hub>=0.25.1->gradio) (4.67.1)\n",
      "Requirement already satisfied: python-dateutil>=2.8.2 in /home/bigdata/miniconda3/envs/Trabajo_BIDA/lib/python3.13/site-packages (from pandas<3.0,>=1.0->gradio) (2.9.0.post0)\n",
      "Requirement already satisfied: pytz>=2020.1 in /home/bigdata/miniconda3/envs/Trabajo_BIDA/lib/python3.13/site-packages (from pandas<3.0,>=1.0->gradio) (2024.2)\n",
      "Requirement already satisfied: tzdata>=2022.7 in /home/bigdata/miniconda3/envs/Trabajo_BIDA/lib/python3.13/site-packages (from pandas<3.0,>=1.0->gradio) (2024.2)\n",
      "Requirement already satisfied: annotated-types>=0.6.0 in /home/bigdata/miniconda3/envs/Trabajo_BIDA/lib/python3.13/site-packages (from pydantic>=2.0->gradio) (0.7.0)\n",
      "Requirement already satisfied: pydantic-core==2.27.1 in /home/bigdata/miniconda3/envs/Trabajo_BIDA/lib/python3.13/site-packages (from pydantic>=2.0->gradio) (2.27.1)\n",
      "Requirement already satisfied: click>=8.0.0 in /home/bigdata/miniconda3/envs/Trabajo_BIDA/lib/python3.13/site-packages (from typer<1.0,>=0.12->gradio) (8.1.7)\n",
      "Requirement already satisfied: shellingham>=1.3.0 in /home/bigdata/miniconda3/envs/Trabajo_BIDA/lib/python3.13/site-packages (from typer<1.0,>=0.12->gradio) (1.5.4)\n",
      "Requirement already satisfied: rich>=10.11.0 in /home/bigdata/miniconda3/envs/Trabajo_BIDA/lib/python3.13/site-packages (from typer<1.0,>=0.12->gradio) (13.9.4)\n",
      "Requirement already satisfied: six>=1.5 in /home/bigdata/miniconda3/envs/Trabajo_BIDA/lib/python3.13/site-packages (from python-dateutil>=2.8.2->pandas<3.0,>=1.0->gradio) (1.17.0)\n",
      "Requirement already satisfied: markdown-it-py>=2.2.0 in /home/bigdata/miniconda3/envs/Trabajo_BIDA/lib/python3.13/site-packages (from rich>=10.11.0->typer<1.0,>=0.12->gradio) (3.0.0)\n",
      "Requirement already satisfied: pygments<3.0.0,>=2.13.0 in /home/bigdata/miniconda3/envs/Trabajo_BIDA/lib/python3.13/site-packages (from rich>=10.11.0->typer<1.0,>=0.12->gradio) (2.18.0)\n",
      "Requirement already satisfied: charset-normalizer<4,>=2 in /home/bigdata/miniconda3/envs/Trabajo_BIDA/lib/python3.13/site-packages (from requests->huggingface-hub>=0.25.1->gradio) (3.4.0)\n",
      "Requirement already satisfied: urllib3<3,>=1.21.1 in /home/bigdata/miniconda3/envs/Trabajo_BIDA/lib/python3.13/site-packages (from requests->huggingface-hub>=0.25.1->gradio) (2.2.3)\n",
      "Requirement already satisfied: mdurl~=0.1 in /home/bigdata/miniconda3/envs/Trabajo_BIDA/lib/python3.13/site-packages (from markdown-it-py>=2.2.0->rich>=10.11.0->typer<1.0,>=0.12->gradio) (0.1.2)\n"
     ]
    }
   ],
   "source": [
    "!pip install gradio"
   ]
  },
  {
   "cell_type": "markdown",
   "id": "5ca19d8e-67ef-439f-a753-245dcd12ffb9",
   "metadata": {},
   "source": [
    "Select **model** for embeddings. \n",
    "\n",
    "We must to select the same model of existing embeddings in database"
   ]
  },
  {
   "cell_type": "code",
   "execution_count": 17,
   "id": "ecbe89d7-e3fc-417c-bb1e-f2b6cc63c61c",
   "metadata": {},
   "outputs": [],
   "source": [
    "from langchain_huggingface import HuggingFaceEmbeddings\n",
    "\n",
    "embeddings = HuggingFaceEmbeddings(model_name=\"sentence-transformers/all-mpnet-base-v2\")"
   ]
  },
  {
   "cell_type": "markdown",
   "id": "938cd0b4-9fcb-4362-998a-cd3dbbebdc24",
   "metadata": {},
   "source": [
    "Access existing database"
   ]
  },
  {
   "cell_type": "code",
   "execution_count": 18,
   "id": "795b7ea7-a0d9-47ce-ac00-90691c034435",
   "metadata": {},
   "outputs": [],
   "source": [
    "from langchain_chroma import Chroma\n",
    "\n",
    "vector_store = Chroma(\n",
    "    collection_name=\"some_facts\",\n",
    "    embedding_function=embeddings,\n",
    "    persist_directory=\"./chroma_some_facts\",  # Where to save data locally, remove if not necessary\n",
    ")"
   ]
  },
  {
   "cell_type": "markdown",
   "id": "76834665-2c46-4ab4-80f6-381a02a7c960",
   "metadata": {},
   "source": [
    "## Searching"
   ]
  },
  {
   "cell_type": "code",
   "execution_count": 19,
   "id": "1850b0ec-d230-4c8b-892f-f8dfc79ac4ae",
   "metadata": {},
   "outputs": [],
   "source": [
    "# you don't need to run this section"
   ]
  },
  {
   "cell_type": "code",
   "execution_count": 20,
   "id": "7f138d6e-bcb3-40a7-93d0-5c6cc64eb507",
   "metadata": {},
   "outputs": [
    {
     "name": "stdout",
     "output_type": "stream",
     "text": [
      "* [SIM=0.809472] The weather forecast for tomorrow is cloudy and overcast, with a high of 62 degrees.\n",
      "* [SIM=1.515494] I have a bad feeling I am going to get deleted :(\n",
      "* [SIM=1.540267] I had chocolate chip pancakes and scrambled eggs for breakfast this morning.\n"
     ]
    }
   ],
   "source": [
    "results = vector_store.similarity_search_with_score(\n",
    "    \"Will it be hot tomorrow?\", k=3,\n",
    ")\n",
    "for res, score in results:\n",
    "    print(f\"* [SIM={score:3f}] {res.page_content}\")"
   ]
  },
  {
   "cell_type": "code",
   "execution_count": 21,
   "id": "cb39a87f-2ce1-49ca-af86-c11f019e82aa",
   "metadata": {},
   "outputs": [],
   "source": [
    "# we can configure a 'RETRIEVER', a key component in Langchain used to find relevant information from document collections"
   ]
  },
  {
   "cell_type": "code",
   "execution_count": 22,
   "id": "1ac2fa53-9f72-4541-b247-dcc86a77a49a",
   "metadata": {},
   "outputs": [
    {
     "data": {
      "text/plain": [
       "[Document(metadata={}, page_content='Robbers broke into the city bank and stole $1 million in cash.'),\n",
       " Document(metadata={}, page_content='The stock market is down 500 points today due to fears of a recession.'),\n",
       " Document(metadata={}, page_content='I had chocolate chip pancakes and scrambled eggs for breakfast this morning.')]"
      ]
     },
     "execution_count": 22,
     "metadata": {},
     "output_type": "execute_result"
    }
   ],
   "source": [
    "retriever = vector_store.as_retriever(\n",
    "    search_type=\"similarity\",  search_kwargs={\"k\": 3}\n",
    ")\n",
    "retriever.invoke(\"Stealing from the bank is a crime\")"
   ]
  },
  {
   "cell_type": "code",
   "execution_count": null,
   "id": "506615cf-9b9b-4c08-9fd8-f01efae4b382",
   "metadata": {},
   "outputs": [],
   "source": []
  },
  {
   "cell_type": "markdown",
   "id": "a7813538-5a7c-4c1a-8951-9c0e62e03720",
   "metadata": {},
   "source": [
    "## Create a Gradio interface"
   ]
  },
  {
   "cell_type": "code",
   "execution_count": 23,
   "id": "1a15d9c3-97e4-4d89-b9ba-11558804fab7",
   "metadata": {},
   "outputs": [],
   "source": [
    "# Create a function to make the query to the database \n",
    "# We use almost the same code that previusly, but in function style ;-)"
   ]
  },
  {
   "cell_type": "code",
   "execution_count": 24,
   "id": "fe0b8264-a3d6-4ed4-a26a-e30b2f80555c",
   "metadata": {},
   "outputs": [],
   "source": [
    "def search_chroma(query, top_k):\n",
    "    try:   \n",
    "        results = vector_store.similarity_search(query, k=top_k)\n",
    "        return \"\\n\\n\".join(\n",
    "            [f\"**Result {i+1}:**\\n{doc.page_content}\" for i, doc in enumerate(results)]\n",
    "        )\n",
    "    except Exception as e:\n",
    "        return f\"Error: {e}\"\n",
    "    "
   ]
  },
  {
   "cell_type": "code",
   "execution_count": 25,
   "id": "c9d78893-8596-468f-99eb-3fd229b4c955",
   "metadata": {},
   "outputs": [],
   "source": [
    "import gradio as gr"
   ]
  },
  {
   "cell_type": "code",
   "execution_count": 26,
   "id": "e19e32cd-6670-4af3-952e-322699c3353c",
   "metadata": {},
   "outputs": [
    {
     "name": "stdout",
     "output_type": "stream",
     "text": [
      "* Running on local URL:  http://127.0.0.1:7860\n",
      "\n",
      "To create a public link, set `share=True` in `launch()`.\n"
     ]
    },
    {
     "data": {
      "text/html": [
       "<div><iframe src=\"http://127.0.0.1:7860/\" width=\"100%\" height=\"500\" allow=\"autoplay; camera; microphone; clipboard-read; clipboard-write;\" frameborder=\"0\" allowfullscreen></iframe></div>"
      ],
      "text/plain": [
       "<IPython.core.display.HTML object>"
      ]
     },
     "metadata": {},
     "output_type": "display_data"
    },
    {
     "data": {
      "text/plain": []
     },
     "execution_count": 26,
     "metadata": {},
     "output_type": "execute_result"
    }
   ],
   "source": [
    "with gr.Blocks() as demo:\n",
    "    gr.Markdown(\"### Chroma Database Search\")\n",
    "    \n",
    "    with gr.Row():\n",
    "        query_input = gr.Textbox(label=\"Enter Your Query\", placeholder=\"Type your question here...\")\n",
    "        top_k_input = gr.Slider(1, 10, step=1, value=5, label=\"Number of Results\")\n",
    "\n",
    "    search_button = gr.Button(\"Search\")\n",
    "    output_box = gr.Textbox(label=\"Search Results\", lines=15)\n",
    "\n",
    "    # Bind the function to the Gradio UI\n",
    "    search_button.click(fn=search_chroma, inputs=[query_input, top_k_input], outputs=output_box)\n",
    "\n",
    "# Launch the App\n",
    "demo.launch()"
   ]
  },
  {
   "cell_type": "code",
   "execution_count": 27,
   "id": "a3a10157-f669-411e-8505-984ba537c3e8",
   "metadata": {},
   "outputs": [],
   "source": [
    "# We can do it with a retriever"
   ]
  },
  {
   "cell_type": "code",
   "execution_count": 33,
   "id": "4f6ad44a-9eb4-4732-b8b9-7157c7f35177",
   "metadata": {},
   "outputs": [],
   "source": [
    "retriever = vector_store.as_retriever(\n",
    "    search_type=\"similarity\",  search_kwargs={\"k\": 3}\n",
    ")\n",
    "\n",
    "def search_with_retriever(query, top_k):\n",
    "    try:\n",
    "        retriever.search_kwargs[\"k\"] = top_k  # Dynamically set the number of results\n",
    "        results = retriever.get_relevant_documents(query)\n",
    "        return \"\\n\\n\".join(\n",
    "            [f\"**Result {i+1}:**\\n{doc.page_content}\" for i, doc in enumerate(results)]\n",
    "        )\n",
    "    except Exception as e:\n",
    "        return f\"Error: {e}\""
   ]
  },
  {
   "cell_type": "code",
   "execution_count": 34,
   "id": "5ff40fda-a9a5-4c87-a534-a7d27fcd0839",
   "metadata": {},
   "outputs": [
    {
     "name": "stdout",
     "output_type": "stream",
     "text": [
      "* Running on local URL:  http://127.0.0.1:7862\n",
      "\n",
      "To create a public link, set `share=True` in `launch()`.\n"
     ]
    },
    {
     "data": {
      "text/html": [
       "<div><iframe src=\"http://127.0.0.1:7862/\" width=\"100%\" height=\"500\" allow=\"autoplay; camera; microphone; clipboard-read; clipboard-write;\" frameborder=\"0\" allowfullscreen></iframe></div>"
      ],
      "text/plain": [
       "<IPython.core.display.HTML object>"
      ]
     },
     "metadata": {},
     "output_type": "display_data"
    },
    {
     "data": {
      "text/plain": []
     },
     "execution_count": 34,
     "metadata": {},
     "output_type": "execute_result"
    }
   ],
   "source": [
    "with gr.Blocks() as demo:\n",
    "    gr.Markdown(\"### Chroma Database Search\")\n",
    "    \n",
    "    with gr.Row():\n",
    "        query_input = gr.Textbox(label=\"Enter Your Query\", placeholder=\"Type your question here...\")\n",
    "        top_k_input = gr.Slider(1, 10, step=1, value=5, label=\"Number of Results\")\n",
    "\n",
    "    search_button = gr.Button(\"Search\")\n",
    "    output_box = gr.Textbox(label=\"Search Results\", lines=15)\n",
    "\n",
    "    # Bind the function to the Gradio UI\n",
    "    search_button.click(fn=search_with_retriever, inputs=[query_input, top_k_input], outputs=output_box)\n",
    "\n",
    "# Launch the App\n",
    "demo.launch()"
   ]
  },
  {
   "cell_type": "code",
   "execution_count": null,
   "id": "4b054c96-e5ca-4873-8cd3-5776b8b0be28",
   "metadata": {},
   "outputs": [],
   "source": []
  }
 ],
 "metadata": {
  "kernelspec": {
   "display_name": "Trabajo_BIDA",
   "language": "python",
   "name": "python3"
  },
  "language_info": {
   "codemirror_mode": {
    "name": "ipython",
    "version": 3
   },
   "file_extension": ".py",
   "mimetype": "text/x-python",
   "name": "python",
   "nbconvert_exporter": "python",
   "pygments_lexer": "ipython3",
   "version": "3.13.1"
  }
 },
 "nbformat": 4,
 "nbformat_minor": 5
}
