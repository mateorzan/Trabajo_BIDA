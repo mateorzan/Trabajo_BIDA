{
 "cells": [
  {
   "cell_type": "markdown",
   "id": "75ec5898-e9b7-4807-8a86-6f71b060e1f9",
   "metadata": {},
   "source": [
    "# Create and query a Chroma DB\n",
    "Sample of how to store some texts in a Chroma Vector Database using state-of-the-art sentence-transformers and oriented to creating a RAG system."
   ]
  },
  {
   "cell_type": "code",
   "execution_count": 1,
   "id": "d1b2e70e-469d-452e-a2ea-23750cd9eff0",
   "metadata": {},
   "outputs": [],
   "source": [
    "# https://python.langchain.com/docs/integrations/vectorstores/chroma/"
   ]
  },
  {
   "cell_type": "code",
   "execution_count": 2,
   "id": "af4b096c-54dd-480e-b98a-297fb4629f93",
   "metadata": {},
   "outputs": [],
   "source": [
    "#!pip install chromadb sentence-transformers langchain_huggingface langchain_chroma"
   ]
  },
  {
   "cell_type": "markdown",
   "id": "5045ac19-920c-401d-a7a2-336fc077d7a3",
   "metadata": {},
   "source": [
    "Create a list of text to store in vector database"
   ]
  },
  {
   "cell_type": "code",
   "execution_count": 3,
   "id": "ad68b631-8463-45df-a8b3-82795aec7829",
   "metadata": {},
   "outputs": [],
   "source": [
    "textos = [\"I had chocolate chip pancakes and scrambled eggs for breakfast this morning.\",\n",
    "          \"The weather forecast for tomorrow is cloudy and overcast, with a high of 62 degrees.\",\n",
    "          \"Building an exciting new project with LangChain - come check it out!\",\n",
    "          \"Robbers broke into the city bank and stole $1 million in cash.\",\n",
    "          \"Wow! That was an amazing movie. I can't wait to see it again.\",\n",
    "          \"Is the new iPhone worth the price? Read this review to find out.\",\n",
    "          \"The top 10 soccer players in the world right now.\",\n",
    "          \"LangGraph is the best framework for building stateful, agentic applications!\",\n",
    "          \"The stock market is down 500 points today due to fears of a recession.\",\n",
    "          \"I have a bad feeling I am going to get deleted :(\",]"
   ]
  },
  {
   "cell_type": "markdown",
   "id": "6c5bafec-1447-47cb-9c2a-e4595ded2077",
   "metadata": {},
   "source": [
    "Select **model** for embeddings"
   ]
  },
  {
   "cell_type": "code",
   "execution_count": 4,
   "id": "d4733eae-6901-4826-bc6a-b6c33a994022",
   "metadata": {},
   "outputs": [
    {
     "name": "stderr",
     "output_type": "stream",
     "text": [
      "/home/bigdata/miniconda3/envs/Trabajo_BIDA/lib/python3.13/site-packages/tqdm/auto.py:21: TqdmWarning: IProgress not found. Please update jupyter and ipywidgets. See https://ipywidgets.readthedocs.io/en/stable/user_install.html\n",
      "  from .autonotebook import tqdm as notebook_tqdm\n"
     ]
    }
   ],
   "source": [
    "from langchain_huggingface import HuggingFaceEmbeddings\n",
    "\n",
    "embeddings = HuggingFaceEmbeddings(model_name=\"sentence-transformers/all-mpnet-base-v2\")"
   ]
  },
  {
   "cell_type": "markdown",
   "id": "021f47ab-e715-44d5-b878-0ac81989e69a",
   "metadata": {},
   "source": [
    "Populate database with **texts and embeddings**"
   ]
  },
  {
   "cell_type": "code",
   "execution_count": 5,
   "id": "88e759ce-7b9b-44f2-b89e-030140502d0c",
   "metadata": {
    "scrolled": true
   },
   "outputs": [],
   "source": [
    "from langchain_chroma import Chroma\n",
    "\n",
    "\n",
    "vector_store = Chroma.from_texts(\n",
    "    texts=textos,\n",
    "    collection_name=\"some_facts\",\n",
    "    embedding=embeddings,\n",
    "    persist_directory=\"./chroma_some_facts\",\n",
    ")"
   ]
  },
  {
   "cell_type": "markdown",
   "id": "76834665-2c46-4ab4-80f6-381a02a7c960",
   "metadata": {},
   "source": [
    "**Searching** data in vectorstore"
   ]
  },
  {
   "cell_type": "code",
   "execution_count": 6,
   "id": "8381727a-a53b-461e-a6d1-35d154cff0a9",
   "metadata": {},
   "outputs": [
    {
     "name": "stdout",
     "output_type": "stream",
     "text": [
      "page_content='Building an exciting new project with LangChain - come check it out!'\n",
      "page_content='LangGraph is the best framework for building stateful, agentic applications!'\n",
      "page_content='Is the new iPhone worth the price? Read this review to find out.'\n"
     ]
    }
   ],
   "source": [
    "results = vector_store.similarity_search(\n",
    "    \"LangChain provides abstractions to make working with LLMs easy\",\n",
    "    k=3  #number of results\n",
    ")\n",
    "for res in results:\n",
    "    print(res)"
   ]
  },
  {
   "cell_type": "code",
   "execution_count": 7,
   "id": "7f138d6e-bcb3-40a7-93d0-5c6cc64eb507",
   "metadata": {},
   "outputs": [
    {
     "name": "stdout",
     "output_type": "stream",
     "text": [
      "* [SIM=0.809472] The weather forecast for tomorrow is cloudy and overcast, with a high of 62 degrees.\n",
      "* [SIM=1.515494] I have a bad feeling I am going to get deleted :(\n",
      "* [SIM=1.540267] I had chocolate chip pancakes and scrambled eggs for breakfast this morning.\n"
     ]
    }
   ],
   "source": [
    "results = vector_store.similarity_search_with_score(\n",
    "    \"Will it be hot tomorrow?\", k=3,\n",
    ")\n",
    "for res, score in results:\n",
    "    print(f\"* [SIM={score:3f}] {res.page_content}\")"
   ]
  },
  {
   "cell_type": "markdown",
   "id": "d535f430-c319-4b2a-a6ca-0e42dfb4e73e",
   "metadata": {},
   "source": [
    "We can configure a **RETRIEVER**, a key component in Langchain used to find relevant information from document collections"
   ]
  },
  {
   "cell_type": "code",
   "execution_count": 8,
   "id": "1ac2fa53-9f72-4541-b247-dcc86a77a49a",
   "metadata": {},
   "outputs": [
    {
     "data": {
      "text/plain": [
       "[Document(metadata={}, page_content='Robbers broke into the city bank and stole $1 million in cash.'),\n",
       " Document(metadata={}, page_content='The stock market is down 500 points today due to fears of a recession.'),\n",
       " Document(metadata={}, page_content='I had chocolate chip pancakes and scrambled eggs for breakfast this morning.')]"
      ]
     },
     "execution_count": 8,
     "metadata": {},
     "output_type": "execute_result"
    }
   ],
   "source": [
    "retriever = vector_store.as_retriever(\n",
    "    search_type=\"similarity\",  search_kwargs={\"k\": 3}\n",
    ")\n",
    "retriever.invoke(\"Stealing from the bank is a crime\")"
   ]
  },
  {
   "cell_type": "code",
   "execution_count": null,
   "id": "506615cf-9b9b-4c08-9fd8-f01efae4b382",
   "metadata": {},
   "outputs": [],
   "source": []
  }
 ],
 "metadata": {
  "kernelspec": {
   "display_name": "Trabajo_BIDA",
   "language": "python",
   "name": "python3"
  },
  "language_info": {
   "codemirror_mode": {
    "name": "ipython",
    "version": 3
   },
   "file_extension": ".py",
   "mimetype": "text/x-python",
   "name": "python",
   "nbconvert_exporter": "python",
   "pygments_lexer": "ipython3",
   "version": "3.13.1"
  }
 },
 "nbformat": 4,
 "nbformat_minor": 5
}
